{
 "cells": [
  {
   "cell_type": "code",
   "execution_count": 1,
   "metadata": {},
   "outputs": [
    {
     "name": "stderr",
     "output_type": "stream",
     "text": [
      "/home/ingridsimoes/anaconda3/lib/python3.7/site-packages/sklearn/utils/validation.py:37: DeprecationWarning: distutils Version classes are deprecated. Use packaging.version instead.\n",
      "  LARGE_SPARSE_SUPPORTED = LooseVersion(scipy_version) >= '0.14.0'\n"
     ]
    }
   ],
   "source": [
    "from psycopg2.sql import SQL\n",
    "import pandas as pd\n",
    "import numpy as np\n",
    "from delfos import MetaDAO\n",
    "from sklearn.preprocessing import StandardScaler\n"
   ]
  },
  {
   "cell_type": "code",
   "execution_count": 2,
   "metadata": {},
   "outputs": [
    {
     "name": "stdout",
     "output_type": "stream",
     "text": [
      "                      sample_time      power  outdoor_temp  generator_speed  \\\n",
      "0       2018-01-01 00:00:00+00:00  668.28204     32.369460        973.59010   \n",
      "1       2018-01-01 00:10:00+00:00  396.09955     32.322247        851.24150   \n",
      "2       2018-01-01 00:20:00+00:00  337.86740     32.230736        835.06190   \n",
      "3       2018-01-01 00:30:00+00:00  326.90180     32.051624        830.00200   \n",
      "4       2018-01-01 00:40:00+00:00  400.90637     31.891493        843.18300   \n",
      "...                           ...        ...           ...              ...   \n",
      "157809  2020-12-31 21:30:00+00:00  463.78204     30.680513        886.92694   \n",
      "157810  2020-12-31 21:40:00+00:00  472.37115     30.551275        884.98804   \n",
      "157811  2020-12-31 21:50:00+00:00  579.70490     30.431310        939.09460   \n",
      "157812  2020-12-31 22:00:00+00:00  554.78850     30.328987        927.96220   \n",
      "157813  2020-12-31 22:10:00+00:00  194.68222     30.234390        352.50555   \n",
      "\n",
      "          nacelle  gearbox_bearing  \n",
      "0       39.058334        64.715836  \n",
      "1       38.784668        64.043500  \n",
      "2       38.634502        63.263668  \n",
      "3       38.470500        62.612000  \n",
      "4       38.342167        62.464000  \n",
      "...           ...              ...  \n",
      "157809  39.403336        65.438670  \n",
      "157810  39.182835        64.908165  \n",
      "157811  39.011333        64.766170  \n",
      "157812  38.867000        64.691170  \n",
      "157813  40.111168        63.903500  \n",
      "\n",
      "[129814 rows x 6 columns]\n"
     ]
    }
   ],
   "source": [
    "df= pd.read_csv('data_05_shaft_bearing.csv')\n",
    "df= pd.read_csv('data_05_shaft_bearing.csv')\n",
    "df= df.dropna()\n",
    "df=df[df['power']>100]\n",
    "df= df[df['outdoor_temp']>0]\n",
    "df= df[df['nacelle']>0]\n",
    "df= df[df['generator_speed']>0]\n",
    "df= df[df['gearbox_bearing']>0]\n",
    "df.drop(columns=[\"Unnamed: 0\"],inplace=True)\n",
    "print(df)"
   ]
  },
  {
   "cell_type": "code",
   "execution_count": 3,
   "metadata": {},
   "outputs": [],
   "source": [
    "features = ['generator_speed', 'nacelle']\n",
    "target = ['gearbox_bearing']\n",
    "X = df[features]\n",
    "y = df[target]"
   ]
  },
  {
   "cell_type": "code",
   "execution_count": 4,
   "metadata": {},
   "outputs": [],
   "source": [
    "PredictorScaler=StandardScaler()\n",
    "TargetVarScaler=StandardScaler()"
   ]
  },
  {
   "cell_type": "code",
   "execution_count": 5,
   "metadata": {},
   "outputs": [],
   "source": [
    "# Storing the fit object for later reference\n",
    "PredictorScalerFit=PredictorScaler.fit(X)\n",
    "TargetVarScalerFit=TargetVarScaler.fit(y)"
   ]
  },
  {
   "cell_type": "code",
   "execution_count": 6,
   "metadata": {},
   "outputs": [],
   "source": [
    "# Generating the standardized values of X and y\n",
    "X=PredictorScalerFit.transform(X)\n",
    "y=TargetVarScalerFit.transform(y)"
   ]
  },
  {
   "cell_type": "code",
   "execution_count": 7,
   "metadata": {},
   "outputs": [
    {
     "data": {
      "text/html": [
       "<div>\n",
       "<style scoped>\n",
       "    .dataframe tbody tr th:only-of-type {\n",
       "        vertical-align: middle;\n",
       "    }\n",
       "\n",
       "    .dataframe tbody tr th {\n",
       "        vertical-align: top;\n",
       "    }\n",
       "\n",
       "    .dataframe thead th {\n",
       "        text-align: right;\n",
       "    }\n",
       "</style>\n",
       "<table border=\"1\" class=\"dataframe\">\n",
       "  <thead>\n",
       "    <tr style=\"text-align: right;\">\n",
       "      <th></th>\n",
       "      <th>sample_time</th>\n",
       "      <th>power</th>\n",
       "      <th>outdoor_temp</th>\n",
       "      <th>generator_speed</th>\n",
       "      <th>nacelle</th>\n",
       "      <th>gearbox_bearing</th>\n",
       "    </tr>\n",
       "  </thead>\n",
       "  <tbody>\n",
       "    <tr>\n",
       "      <th>105120</th>\n",
       "      <td>2020-01-01 00:00:00+00:00</td>\n",
       "      <td>159.13132</td>\n",
       "      <td>23.599184</td>\n",
       "      <td>830.04047</td>\n",
       "      <td>30.861166</td>\n",
       "      <td>54.868835</td>\n",
       "    </tr>\n",
       "    <tr>\n",
       "      <th>105121</th>\n",
       "      <td>2020-01-01 00:10:00+00:00</td>\n",
       "      <td>202.48657</td>\n",
       "      <td>23.685795</td>\n",
       "      <td>829.99540</td>\n",
       "      <td>31.020000</td>\n",
       "      <td>55.599167</td>\n",
       "    </tr>\n",
       "    <tr>\n",
       "      <th>105122</th>\n",
       "      <td>2020-01-01 00:20:00+00:00</td>\n",
       "      <td>230.56969</td>\n",
       "      <td>23.723827</td>\n",
       "      <td>830.04440</td>\n",
       "      <td>31.034334</td>\n",
       "      <td>55.779667</td>\n",
       "    </tr>\n",
       "    <tr>\n",
       "      <th>105123</th>\n",
       "      <td>2020-01-01 00:30:00+00:00</td>\n",
       "      <td>211.84170</td>\n",
       "      <td>23.614294</td>\n",
       "      <td>829.94810</td>\n",
       "      <td>31.041666</td>\n",
       "      <td>55.967167</td>\n",
       "    </tr>\n",
       "    <tr>\n",
       "      <th>105124</th>\n",
       "      <td>2020-01-01 00:40:00+00:00</td>\n",
       "      <td>104.15358</td>\n",
       "      <td>23.345901</td>\n",
       "      <td>829.99530</td>\n",
       "      <td>32.019833</td>\n",
       "      <td>56.393833</td>\n",
       "    </tr>\n",
       "    <tr>\n",
       "      <th>...</th>\n",
       "      <td>...</td>\n",
       "      <td>...</td>\n",
       "      <td>...</td>\n",
       "      <td>...</td>\n",
       "      <td>...</td>\n",
       "      <td>...</td>\n",
       "    </tr>\n",
       "    <tr>\n",
       "      <th>157809</th>\n",
       "      <td>2020-12-31 21:30:00+00:00</td>\n",
       "      <td>463.78204</td>\n",
       "      <td>30.680513</td>\n",
       "      <td>886.92694</td>\n",
       "      <td>39.403336</td>\n",
       "      <td>65.438670</td>\n",
       "    </tr>\n",
       "    <tr>\n",
       "      <th>157810</th>\n",
       "      <td>2020-12-31 21:40:00+00:00</td>\n",
       "      <td>472.37115</td>\n",
       "      <td>30.551275</td>\n",
       "      <td>884.98804</td>\n",
       "      <td>39.182835</td>\n",
       "      <td>64.908165</td>\n",
       "    </tr>\n",
       "    <tr>\n",
       "      <th>157811</th>\n",
       "      <td>2020-12-31 21:50:00+00:00</td>\n",
       "      <td>579.70490</td>\n",
       "      <td>30.431310</td>\n",
       "      <td>939.09460</td>\n",
       "      <td>39.011333</td>\n",
       "      <td>64.766170</td>\n",
       "    </tr>\n",
       "    <tr>\n",
       "      <th>157812</th>\n",
       "      <td>2020-12-31 22:00:00+00:00</td>\n",
       "      <td>554.78850</td>\n",
       "      <td>30.328987</td>\n",
       "      <td>927.96220</td>\n",
       "      <td>38.867000</td>\n",
       "      <td>64.691170</td>\n",
       "    </tr>\n",
       "    <tr>\n",
       "      <th>157813</th>\n",
       "      <td>2020-12-31 22:10:00+00:00</td>\n",
       "      <td>194.68222</td>\n",
       "      <td>30.234390</td>\n",
       "      <td>352.50555</td>\n",
       "      <td>40.111168</td>\n",
       "      <td>63.903500</td>\n",
       "    </tr>\n",
       "  </tbody>\n",
       "</table>\n",
       "<p>41482 rows × 6 columns</p>\n",
       "</div>"
      ],
      "text/plain": [
       "                     sample_time      power  outdoor_temp  generator_speed  \\\n",
       "105120 2020-01-01 00:00:00+00:00  159.13132     23.599184        830.04047   \n",
       "105121 2020-01-01 00:10:00+00:00  202.48657     23.685795        829.99540   \n",
       "105122 2020-01-01 00:20:00+00:00  230.56969     23.723827        830.04440   \n",
       "105123 2020-01-01 00:30:00+00:00  211.84170     23.614294        829.94810   \n",
       "105124 2020-01-01 00:40:00+00:00  104.15358     23.345901        829.99530   \n",
       "...                          ...        ...           ...              ...   \n",
       "157809 2020-12-31 21:30:00+00:00  463.78204     30.680513        886.92694   \n",
       "157810 2020-12-31 21:40:00+00:00  472.37115     30.551275        884.98804   \n",
       "157811 2020-12-31 21:50:00+00:00  579.70490     30.431310        939.09460   \n",
       "157812 2020-12-31 22:00:00+00:00  554.78850     30.328987        927.96220   \n",
       "157813 2020-12-31 22:10:00+00:00  194.68222     30.234390        352.50555   \n",
       "\n",
       "          nacelle  gearbox_bearing  \n",
       "105120  30.861166        54.868835  \n",
       "105121  31.020000        55.599167  \n",
       "105122  31.034334        55.779667  \n",
       "105123  31.041666        55.967167  \n",
       "105124  32.019833        56.393833  \n",
       "...           ...              ...  \n",
       "157809  39.403336        65.438670  \n",
       "157810  39.182835        64.908165  \n",
       "157811  39.011333        64.766170  \n",
       "157812  38.867000        64.691170  \n",
       "157813  40.111168        63.903500  \n",
       "\n",
       "[41482 rows x 6 columns]"
      ]
     },
     "execution_count": 7,
     "metadata": {},
     "output_type": "execute_result"
    }
   ],
   "source": [
    "df.sample_time = pd.to_datetime(df.sample_time)\n",
    "df[df['sample_time'] >= '2020-01-01']"
   ]
  },
  {
   "cell_type": "code",
   "execution_count": 8,
   "metadata": {},
   "outputs": [],
   "source": [
    "X_train= X[0:100000]\n",
    "y_train= y[0:100000]\n",
    "X_validation = X[10000:105120]\n",
    "y_validation = y[10000:105120]\n",
    "X_test= X[105120:]\n",
    "y_test= y[105120:]"
   ]
  },
  {
   "cell_type": "code",
   "execution_count": 9,
   "metadata": {},
   "outputs": [
    {
     "name": "stdout",
     "output_type": "stream",
     "text": [
      "(100000, 2)\n",
      "(100000, 1)\n",
      "(24694, 2)\n",
      "(24694, 1)\n",
      "(95120, 2)\n",
      "(95120, 1)\n"
     ]
    }
   ],
   "source": [
    "# Quick sanity check with the shapes of Training and testing datasets\n",
    "print(X_train.shape)\n",
    "print(y_train.shape)\n",
    "print(X_test.shape)\n",
    "print(y_test.shape)\n",
    "print(X_validation.shape)\n",
    "print(y_validation.shape)"
   ]
  },
  {
   "cell_type": "code",
   "execution_count": 10,
   "metadata": {},
   "outputs": [
    {
     "name": "stderr",
     "output_type": "stream",
     "text": [
      "Using TensorFlow backend.\n",
      "/home/ingridsimoes/anaconda3/lib/python3.7/site-packages/tensorflow/python/framework/dtypes.py:526: FutureWarning: Passing (type, 1) or '1type' as a synonym of type is deprecated; in a future version of numpy, it will be understood as (type, (1,)) / '(1,)type'.\n",
      "  _np_qint8 = np.dtype([(\"qint8\", np.int8, 1)])\n",
      "/home/ingridsimoes/anaconda3/lib/python3.7/site-packages/tensorflow/python/framework/dtypes.py:527: FutureWarning: Passing (type, 1) or '1type' as a synonym of type is deprecated; in a future version of numpy, it will be understood as (type, (1,)) / '(1,)type'.\n",
      "  _np_quint8 = np.dtype([(\"quint8\", np.uint8, 1)])\n",
      "/home/ingridsimoes/anaconda3/lib/python3.7/site-packages/tensorflow/python/framework/dtypes.py:528: FutureWarning: Passing (type, 1) or '1type' as a synonym of type is deprecated; in a future version of numpy, it will be understood as (type, (1,)) / '(1,)type'.\n",
      "  _np_qint16 = np.dtype([(\"qint16\", np.int16, 1)])\n",
      "/home/ingridsimoes/anaconda3/lib/python3.7/site-packages/tensorflow/python/framework/dtypes.py:529: FutureWarning: Passing (type, 1) or '1type' as a synonym of type is deprecated; in a future version of numpy, it will be understood as (type, (1,)) / '(1,)type'.\n",
      "  _np_quint16 = np.dtype([(\"quint16\", np.uint16, 1)])\n",
      "/home/ingridsimoes/anaconda3/lib/python3.7/site-packages/tensorflow/python/framework/dtypes.py:530: FutureWarning: Passing (type, 1) or '1type' as a synonym of type is deprecated; in a future version of numpy, it will be understood as (type, (1,)) / '(1,)type'.\n",
      "  _np_qint32 = np.dtype([(\"qint32\", np.int32, 1)])\n",
      "/home/ingridsimoes/anaconda3/lib/python3.7/site-packages/tensorflow/python/framework/dtypes.py:535: FutureWarning: Passing (type, 1) or '1type' as a synonym of type is deprecated; in a future version of numpy, it will be understood as (type, (1,)) / '(1,)type'.\n",
      "  np_resource = np.dtype([(\"resource\", np.ubyte, 1)])\n"
     ]
    }
   ],
   "source": [
    "# importing the libraries\n",
    "from keras.models import Sequential\n",
    "from keras.layers import Dense\n",
    "from keras.layers import Dropout\n",
    "from keras import optimizers\n",
    "# create ANN model\n",
    "model = Sequential()"
   ]
  },
  {
   "cell_type": "code",
   "execution_count": 11,
   "metadata": {},
   "outputs": [
    {
     "name": "stdout",
     "output_type": "stream",
     "text": [
      "WARNING:tensorflow:From /home/ingridsimoes/anaconda3/lib/python3.7/site-packages/tensorflow/python/ops/resource_variable_ops.py:435: colocate_with (from tensorflow.python.framework.ops) is deprecated and will be removed in a future version.\n",
      "Instructions for updating:\n",
      "Colocations handled automatically by placer.\n"
     ]
    }
   ],
   "source": [
    "# Defining the Input layer and FIRST hidden layer, both are same!\n",
    "model.add(Dense(65,input_dim=2,  kernel_initializer='normal', activation='tanh'))\n",
    "model.add(Dense(65, kernel_initializer='normal', activation='hard_sigmoid'))\n",
    "model.add(Dense(65, kernel_initializer='normal', activation='hard_sigmoid'))\n",
    "#model.add(Dropout(0.2))\n",
    "model.add(Dense(65, kernel_initializer='normal', activation='hard_sigmoid'))\n",
    "#model.add(Dropout(0.2))\n",
    "model.add(Dense(65, kernel_initializer='normal', activation='hard_sigmoid'))\n",
    "#model.add(Dropout(0.2))\n",
    "model.add(Dense(1))"
   ]
  },
  {
   "cell_type": "code",
   "execution_count": 12,
   "metadata": {},
   "outputs": [],
   "source": [
    "opt=optimizers.Adam(\n",
    "    learning_rate=0.001, beta_1=0.9, beta_2=0.999, epsilon=1e-07, amsgrad=False\n",
    ")\n",
    "\n",
    "model.compile(loss='mae', optimizer=opt, metrics=['mse'])"
   ]
  },
  {
   "cell_type": "code",
   "execution_count": 13,
   "metadata": {},
   "outputs": [
    {
     "name": "stdout",
     "output_type": "stream",
     "text": [
      "WARNING:tensorflow:From /home/ingridsimoes/anaconda3/lib/python3.7/site-packages/tensorflow/python/ops/math_ops.py:3066: to_int32 (from tensorflow.python.ops.math_ops) is deprecated and will be removed in a future version.\n",
      "Instructions for updating:\n",
      "Use tf.cast instead.\n",
      "Train on 100000 samples, validate on 95120 samples\n",
      "Epoch 1/50\n",
      "100000/100000 [==============================] - 6s 57us/step - loss: 0.5077 - mse: 0.4300 - val_loss: 0.4738 - val_mse: 0.3499\n",
      "Epoch 2/50\n",
      "100000/100000 [==============================] - 7s 72us/step - loss: 0.4783 - mse: 0.3590 - val_loss: 0.4715 - val_mse: 0.3445\n",
      "Epoch 3/50\n",
      "100000/100000 [==============================] - 6s 64us/step - loss: 0.4684 - mse: 0.3500 - val_loss: 0.4459 - val_mse: 0.3231\n",
      "Epoch 4/50\n",
      "100000/100000 [==============================] - 9s 89us/step - loss: 0.4529 - mse: 0.3381 - val_loss: 0.4435 - val_mse: 0.3219\n",
      "Epoch 5/50\n",
      "100000/100000 [==============================] - 6s 56us/step - loss: 0.4521 - mse: 0.3376 - val_loss: 0.4479 - val_mse: 0.3342\n",
      "Epoch 6/50\n",
      "100000/100000 [==============================] - 6s 58us/step - loss: 0.4514 - mse: 0.3374 - val_loss: 0.4461 - val_mse: 0.3297\n",
      "Epoch 7/50\n",
      "100000/100000 [==============================] - 9s 90us/step - loss: 0.4511 - mse: 0.3371 - val_loss: 0.4445 - val_mse: 0.3232\n",
      "Epoch 8/50\n",
      "100000/100000 [==============================] - 5s 47us/step - loss: 0.4506 - mse: 0.3362 - val_loss: 0.4510 - val_mse: 0.3375\n",
      "Epoch 9/50\n",
      "100000/100000 [==============================] - 6s 59us/step - loss: 0.4508 - mse: 0.3369 - val_loss: 0.4562 - val_mse: 0.3370\n",
      "Epoch 10/50\n",
      "100000/100000 [==============================] - 8s 79us/step - loss: 0.4507 - mse: 0.3362 - val_loss: 0.4476 - val_mse: 0.3226\n",
      "Epoch 11/50\n",
      "100000/100000 [==============================] - 6s 57us/step - loss: 0.4502 - mse: 0.3357 - val_loss: 0.4459 - val_mse: 0.3298\n",
      "Epoch 12/50\n",
      "100000/100000 [==============================] - 5s 53us/step - loss: 0.4504 - mse: 0.3363 - val_loss: 0.4447 - val_mse: 0.3262\n",
      "Epoch 13/50\n",
      "100000/100000 [==============================] - 5s 49us/step - loss: 0.4501 - mse: 0.3355 - val_loss: 0.4449 - val_mse: 0.3212\n",
      "Epoch 14/50\n",
      "100000/100000 [==============================] - 5s 50us/step - loss: 0.4505 - mse: 0.3362 - val_loss: 0.4451 - val_mse: 0.3277\n",
      "Epoch 15/50\n",
      "100000/100000 [==============================] - 8s 80us/step - loss: 0.4500 - mse: 0.3359 - val_loss: 0.4439 - val_mse: 0.3302\n",
      "Epoch 16/50\n",
      "100000/100000 [==============================] - 5s 49us/step - loss: 0.4501 - mse: 0.3358 - val_loss: 0.4437 - val_mse: 0.3208\n",
      "Epoch 17/50\n",
      "100000/100000 [==============================] - 6s 57us/step - loss: 0.4502 - mse: 0.3362 - val_loss: 0.4447 - val_mse: 0.3207\n",
      "Epoch 18/50\n",
      "100000/100000 [==============================] - 6s 59us/step - loss: 0.4501 - mse: 0.3362 - val_loss: 0.4430 - val_mse: 0.3222\n",
      "Epoch 19/50\n",
      "100000/100000 [==============================] - 6s 57us/step - loss: 0.4499 - mse: 0.3361 - val_loss: 0.4430 - val_mse: 0.3278\n",
      "Epoch 20/50\n",
      "100000/100000 [==============================] - 4s 43us/step - loss: 0.4496 - mse: 0.3354 - val_loss: 0.4443 - val_mse: 0.3249\n",
      "Epoch 21/50\n",
      "100000/100000 [==============================] - 5s 47us/step - loss: 0.4496 - mse: 0.3357 - val_loss: 0.4443 - val_mse: 0.3312\n",
      "Epoch 22/50\n",
      "100000/100000 [==============================] - 5s 51us/step - loss: 0.4498 - mse: 0.3356 - val_loss: 0.4441 - val_mse: 0.3279\n",
      "Epoch 23/50\n",
      "100000/100000 [==============================] - 4s 38us/step - loss: 0.4497 - mse: 0.3358 - val_loss: 0.4475 - val_mse: 0.3243\n",
      "Epoch 24/50\n",
      "100000/100000 [==============================] - 4s 37us/step - loss: 0.4496 - mse: 0.3354 - val_loss: 0.4432 - val_mse: 0.3247\n",
      "Epoch 25/50\n",
      "100000/100000 [==============================] - 5s 48us/step - loss: 0.4497 - mse: 0.3356 - val_loss: 0.4429 - val_mse: 0.3249\n",
      "Epoch 26/50\n",
      "100000/100000 [==============================] - 5s 49us/step - loss: 0.4493 - mse: 0.3349 - val_loss: 0.4444 - val_mse: 0.3248\n",
      "Epoch 27/50\n",
      "100000/100000 [==============================] - 5s 46us/step - loss: 0.4496 - mse: 0.3352 - val_loss: 0.4475 - val_mse: 0.3264\n",
      "Epoch 28/50\n",
      "100000/100000 [==============================] - 5s 52us/step - loss: 0.4494 - mse: 0.3352 - val_loss: 0.4427 - val_mse: 0.3225\n",
      "Epoch 29/50\n",
      "100000/100000 [==============================] - 6s 55us/step - loss: 0.4494 - mse: 0.3350 - val_loss: 0.4455 - val_mse: 0.3275\n",
      "Epoch 30/50\n",
      "100000/100000 [==============================] - 5s 51us/step - loss: 0.4489 - mse: 0.3346 - val_loss: 0.4449 - val_mse: 0.3213\n",
      "Epoch 31/50\n",
      "100000/100000 [==============================] - 5s 46us/step - loss: 0.4495 - mse: 0.3357 - val_loss: 0.4464 - val_mse: 0.3231\n",
      "Epoch 32/50\n",
      "100000/100000 [==============================] - 4s 41us/step - loss: 0.4493 - mse: 0.3353 - val_loss: 0.4458 - val_mse: 0.3307\n",
      "Epoch 33/50\n",
      "100000/100000 [==============================] - 5s 53us/step - loss: 0.4495 - mse: 0.3356 - val_loss: 0.4457 - val_mse: 0.3330\n",
      "Epoch 34/50\n",
      "100000/100000 [==============================] - 5s 53us/step - loss: 0.4493 - mse: 0.3354 - val_loss: 0.4428 - val_mse: 0.3223\n",
      "Epoch 35/50\n",
      "100000/100000 [==============================] - 4s 36us/step - loss: 0.4490 - mse: 0.3346 - val_loss: 0.4431 - val_mse: 0.3247\n",
      "Epoch 36/50\n",
      "100000/100000 [==============================] - 5s 48us/step - loss: 0.4493 - mse: 0.3354 - val_loss: 0.4428 - val_mse: 0.3236\n",
      "Epoch 37/50\n",
      "100000/100000 [==============================] - 5s 46us/step - loss: 0.4492 - mse: 0.3350 - val_loss: 0.4427 - val_mse: 0.3270\n",
      "Epoch 38/50\n",
      "100000/100000 [==============================] - 5s 54us/step - loss: 0.4492 - mse: 0.3349 - val_loss: 0.4473 - val_mse: 0.3295\n",
      "Epoch 39/50\n",
      "100000/100000 [==============================] - 5s 51us/step - loss: 0.4488 - mse: 0.3348 - val_loss: 0.4438 - val_mse: 0.3224\n",
      "Epoch 40/50\n",
      "100000/100000 [==============================] - 5s 54us/step - loss: 0.4489 - mse: 0.3349 - val_loss: 0.4443 - val_mse: 0.3215\n",
      "Epoch 41/50\n",
      "100000/100000 [==============================] - 5s 52us/step - loss: 0.4487 - mse: 0.3347 - val_loss: 0.4469 - val_mse: 0.3309\n",
      "Epoch 42/50\n",
      "100000/100000 [==============================] - 4s 41us/step - loss: 0.4489 - mse: 0.3349 - val_loss: 0.4447 - val_mse: 0.3337\n",
      "Epoch 43/50\n",
      "100000/100000 [==============================] - 4s 37us/step - loss: 0.4486 - mse: 0.3343 - val_loss: 0.4480 - val_mse: 0.3273\n",
      "Epoch 44/50\n",
      "100000/100000 [==============================] - 5s 53us/step - loss: 0.4490 - mse: 0.3350 - val_loss: 0.4535 - val_mse: 0.3464\n",
      "Epoch 45/50\n",
      "100000/100000 [==============================] - 5s 52us/step - loss: 0.4489 - mse: 0.3349 - val_loss: 0.4431 - val_mse: 0.3200\n",
      "Epoch 46/50\n",
      "100000/100000 [==============================] - 5s 47us/step - loss: 0.4487 - mse: 0.3348 - val_loss: 0.4433 - val_mse: 0.3191\n",
      "Epoch 47/50\n",
      "100000/100000 [==============================] - 6s 56us/step - loss: 0.4488 - mse: 0.3349 - val_loss: 0.4431 - val_mse: 0.3214\n",
      "Epoch 48/50\n",
      "100000/100000 [==============================] - 4s 41us/step - loss: 0.4485 - mse: 0.3343 - val_loss: 0.4428 - val_mse: 0.3311\n",
      "Epoch 49/50\n",
      "100000/100000 [==============================] - 5s 50us/step - loss: 0.4490 - mse: 0.3347 - val_loss: 0.4449 - val_mse: 0.3229\n",
      "Epoch 50/50\n",
      "100000/100000 [==============================] - 5s 48us/step - loss: 0.4492 - mse: 0.3354 - val_loss: 0.4450 - val_mse: 0.3278\n"
     ]
    }
   ],
   "source": [
    "# Fitting the ANN to the Training set\n",
    "history= model.fit(X_train, y_train ,batch_size = 60, epochs = 50, validation_data=(X_validation, y_validation))"
   ]
  },
  {
   "cell_type": "code",
   "execution_count": 14,
   "metadata": {},
   "outputs": [],
   "source": [
    "Predictions=model.predict(X_test)"
   ]
  },
  {
   "cell_type": "code",
   "execution_count": 15,
   "metadata": {},
   "outputs": [],
   "source": [
    "Predictions=TargetVarScalerFit.inverse_transform(Predictions)"
   ]
  },
  {
   "cell_type": "code",
   "execution_count": 16,
   "metadata": {},
   "outputs": [],
   "source": [
    "y_test_orig=TargetVarScalerFit.inverse_transform(y_test)"
   ]
  },
  {
   "cell_type": "code",
   "execution_count": 17,
   "metadata": {},
   "outputs": [],
   "source": [
    "Test_Data=PredictorScalerFit.inverse_transform(X_test)"
   ]
  },
  {
   "cell_type": "code",
   "execution_count": 18,
   "metadata": {},
   "outputs": [
    {
     "data": {
      "text/html": [
       "<div>\n",
       "<style scoped>\n",
       "    .dataframe tbody tr th:only-of-type {\n",
       "        vertical-align: middle;\n",
       "    }\n",
       "\n",
       "    .dataframe tbody tr th {\n",
       "        vertical-align: top;\n",
       "    }\n",
       "\n",
       "    .dataframe thead th {\n",
       "        text-align: right;\n",
       "    }\n",
       "</style>\n",
       "<table border=\"1\" class=\"dataframe\">\n",
       "  <thead>\n",
       "    <tr style=\"text-align: right;\">\n",
       "      <th></th>\n",
       "      <th>generator_speed</th>\n",
       "      <th>nacelle</th>\n",
       "      <th>original</th>\n",
       "      <th>predicted</th>\n",
       "    </tr>\n",
       "  </thead>\n",
       "  <tbody>\n",
       "    <tr>\n",
       "      <th>0</th>\n",
       "      <td>1242.5048</td>\n",
       "      <td>29.280334</td>\n",
       "      <td>62.573334</td>\n",
       "      <td>64.746567</td>\n",
       "    </tr>\n",
       "    <tr>\n",
       "      <th>1</th>\n",
       "      <td>1440.3514</td>\n",
       "      <td>31.264334</td>\n",
       "      <td>65.407670</td>\n",
       "      <td>65.165146</td>\n",
       "    </tr>\n",
       "    <tr>\n",
       "      <th>2</th>\n",
       "      <td>1336.6907</td>\n",
       "      <td>29.424667</td>\n",
       "      <td>66.546330</td>\n",
       "      <td>64.836876</td>\n",
       "    </tr>\n",
       "    <tr>\n",
       "      <th>3</th>\n",
       "      <td>1430.4870</td>\n",
       "      <td>28.319500</td>\n",
       "      <td>63.864666</td>\n",
       "      <td>64.570671</td>\n",
       "    </tr>\n",
       "    <tr>\n",
       "      <th>4</th>\n",
       "      <td>1452.3634</td>\n",
       "      <td>28.371166</td>\n",
       "      <td>63.637500</td>\n",
       "      <td>64.562874</td>\n",
       "    </tr>\n",
       "  </tbody>\n",
       "</table>\n",
       "</div>"
      ],
      "text/plain": [
       "   generator_speed    nacelle   original  predicted\n",
       "0        1242.5048  29.280334  62.573334  64.746567\n",
       "1        1440.3514  31.264334  65.407670  65.165146\n",
       "2        1336.6907  29.424667  66.546330  64.836876\n",
       "3        1430.4870  28.319500  63.864666  64.570671\n",
       "4        1452.3634  28.371166  63.637500  64.562874"
      ]
     },
     "execution_count": 18,
     "metadata": {},
     "output_type": "execute_result"
    }
   ],
   "source": [
    "df_teste=pd.DataFrame(data=Test_Data, columns=features)\n",
    "df_teste['original']=y_test_orig\n",
    "df_teste['predicted']=Predictions\n",
    "df_teste.head()"
   ]
  },
  {
   "cell_type": "code",
   "execution_count": 19,
   "metadata": {},
   "outputs": [
    {
     "data": {
      "image/png": "[encoded data removed]",
      "text/plain": [
       "<Figure size 576x360 with 1 Axes>"
      ]
     },
     "metadata": {
      "needs_background": "light"
     },
     "output_type": "display_data"
    }
   ],
   "source": [
    "%matplotlib inline\n",
    "\n",
    "import pandas as pd\n",
    "\n",
    "import matplotlib.pyplot as plt\n",
    "pd.DataFrame(history.history).plot(figsize=(8, 5))\n",
    "plt.grid(True)\n",
    "plt.gca().set_ylim(0.2, 0.54) # set the vertical range to [0-1]\n",
    "plt.show()"
   ]
  },
  {
   "cell_type": "code",
   "execution_count": 20,
   "metadata": {},
   "outputs": [
    {
     "name": "stdout",
     "output_type": "stream",
     "text": [
      "The Accuracy of ANN model is: 97.8524075994072\n"
     ]
    },
    {
     "data": {
      "text/html": [
       "<div>\n",
       "<style scoped>\n",
       "    .dataframe tbody tr th:only-of-type {\n",
       "        vertical-align: middle;\n",
       "    }\n",
       "\n",
       "    .dataframe tbody tr th {\n",
       "        vertical-align: top;\n",
       "    }\n",
       "\n",
       "    .dataframe thead th {\n",
       "        text-align: right;\n",
       "    }\n",
       "</style>\n",
       "<table border=\"1\" class=\"dataframe\">\n",
       "  <thead>\n",
       "    <tr style=\"text-align: right;\">\n",
       "      <th></th>\n",
       "      <th>generator_speed</th>\n",
       "      <th>nacelle</th>\n",
       "      <th>original</th>\n",
       "      <th>predicted</th>\n",
       "      <th>APE</th>\n",
       "    </tr>\n",
       "  </thead>\n",
       "  <tbody>\n",
       "    <tr>\n",
       "      <th>0</th>\n",
       "      <td>1242.5048</td>\n",
       "      <td>29.280334</td>\n",
       "      <td>62.573334</td>\n",
       "      <td>64.746567</td>\n",
       "      <td>3.473097</td>\n",
       "    </tr>\n",
       "    <tr>\n",
       "      <th>1</th>\n",
       "      <td>1440.3514</td>\n",
       "      <td>31.264334</td>\n",
       "      <td>65.407670</td>\n",
       "      <td>65.165146</td>\n",
       "      <td>0.370789</td>\n",
       "    </tr>\n",
       "    <tr>\n",
       "      <th>2</th>\n",
       "      <td>1336.6907</td>\n",
       "      <td>29.424667</td>\n",
       "      <td>66.546330</td>\n",
       "      <td>64.836876</td>\n",
       "      <td>2.568818</td>\n",
       "    </tr>\n",
       "    <tr>\n",
       "      <th>3</th>\n",
       "      <td>1430.4870</td>\n",
       "      <td>28.319500</td>\n",
       "      <td>63.864666</td>\n",
       "      <td>64.570671</td>\n",
       "      <td>1.105471</td>\n",
       "    </tr>\n",
       "    <tr>\n",
       "      <th>4</th>\n",
       "      <td>1452.3634</td>\n",
       "      <td>28.371166</td>\n",
       "      <td>63.637500</td>\n",
       "      <td>64.562874</td>\n",
       "      <td>1.454133</td>\n",
       "    </tr>\n",
       "  </tbody>\n",
       "</table>\n",
       "</div>"
      ],
      "text/plain": [
       "   generator_speed    nacelle   original  predicted       APE\n",
       "0        1242.5048  29.280334  62.573334  64.746567  3.473097\n",
       "1        1440.3514  31.264334  65.407670  65.165146  0.370789\n",
       "2        1336.6907  29.424667  66.546330  64.836876  2.568818\n",
       "3        1430.4870  28.319500  63.864666  64.570671  1.105471\n",
       "4        1452.3634  28.371166  63.637500  64.562874  1.454133"
      ]
     },
     "execution_count": 20,
     "metadata": {},
     "output_type": "execute_result"
    }
   ],
   "source": [
    "# Computing the absolute percent error\n",
    "APE=100*(abs(df_teste['original']-df_teste['predicted'])/df_teste['original'])\n",
    "df_teste['APE']=APE\n",
    " \n",
    "print('The Accuracy of ANN model is:', 100-np.mean(APE))\n",
    "df_teste.head()"
   ]
  },
  {
   "cell_type": "code",
   "execution_count": 21,
   "metadata": {},
   "outputs": [
    {
     "data": {
      "text/html": [
       "<div>\n",
       "<style scoped>\n",
       "    .dataframe tbody tr th:only-of-type {\n",
       "        vertical-align: middle;\n",
       "    }\n",
       "\n",
       "    .dataframe tbody tr th {\n",
       "        vertical-align: top;\n",
       "    }\n",
       "\n",
       "    .dataframe thead th {\n",
       "        text-align: right;\n",
       "    }\n",
       "</style>\n",
       "<table border=\"1\" class=\"dataframe\">\n",
       "  <thead>\n",
       "    <tr style=\"text-align: right;\">\n",
       "      <th></th>\n",
       "      <th>sample_time</th>\n",
       "      <th>power</th>\n",
       "      <th>outdoor_temp</th>\n",
       "      <th>generator_speed</th>\n",
       "      <th>nacelle</th>\n",
       "      <th>gearbox_bearing</th>\n",
       "      <th>original</th>\n",
       "      <th>predicted</th>\n",
       "      <th>APE</th>\n",
       "    </tr>\n",
       "  </thead>\n",
       "  <tbody>\n",
       "    <tr>\n",
       "      <th>105120</th>\n",
       "      <td>2020-06-13 12:20:00+00:00</td>\n",
       "      <td>1471.88950</td>\n",
       "      <td>21.637331</td>\n",
       "      <td>1242.50480</td>\n",
       "      <td>29.280334</td>\n",
       "      <td>62.573334</td>\n",
       "      <td>62.573334</td>\n",
       "      <td>64.746567</td>\n",
       "      <td>3.473097</td>\n",
       "    </tr>\n",
       "    <tr>\n",
       "      <th>105121</th>\n",
       "      <td>2020-06-13 12:30:00+00:00</td>\n",
       "      <td>2269.15700</td>\n",
       "      <td>21.958326</td>\n",
       "      <td>1440.35140</td>\n",
       "      <td>31.264334</td>\n",
       "      <td>65.407670</td>\n",
       "      <td>65.407670</td>\n",
       "      <td>65.165146</td>\n",
       "      <td>0.370789</td>\n",
       "    </tr>\n",
       "    <tr>\n",
       "      <th>105122</th>\n",
       "      <td>2020-06-13 12:40:00+00:00</td>\n",
       "      <td>1848.58220</td>\n",
       "      <td>22.357782</td>\n",
       "      <td>1336.69070</td>\n",
       "      <td>29.424667</td>\n",
       "      <td>66.546330</td>\n",
       "      <td>66.546330</td>\n",
       "      <td>64.836876</td>\n",
       "      <td>2.568818</td>\n",
       "    </tr>\n",
       "    <tr>\n",
       "      <th>105123</th>\n",
       "      <td>2020-06-13 12:50:00+00:00</td>\n",
       "      <td>2222.08180</td>\n",
       "      <td>22.545212</td>\n",
       "      <td>1430.48700</td>\n",
       "      <td>28.319500</td>\n",
       "      <td>63.864666</td>\n",
       "      <td>63.864666</td>\n",
       "      <td>64.570671</td>\n",
       "      <td>1.105471</td>\n",
       "    </tr>\n",
       "    <tr>\n",
       "      <th>105124</th>\n",
       "      <td>2020-06-13 13:00:00+00:00</td>\n",
       "      <td>2330.56880</td>\n",
       "      <td>22.536217</td>\n",
       "      <td>1452.36340</td>\n",
       "      <td>28.371166</td>\n",
       "      <td>63.637500</td>\n",
       "      <td>63.637500</td>\n",
       "      <td>64.562874</td>\n",
       "      <td>1.454133</td>\n",
       "    </tr>\n",
       "    <tr>\n",
       "      <th>...</th>\n",
       "      <td>...</td>\n",
       "      <td>...</td>\n",
       "      <td>...</td>\n",
       "      <td>...</td>\n",
       "      <td>...</td>\n",
       "      <td>...</td>\n",
       "      <td>...</td>\n",
       "      <td>...</td>\n",
       "      <td>...</td>\n",
       "    </tr>\n",
       "    <tr>\n",
       "      <th>129808</th>\n",
       "      <td>2020-12-31 21:20:00+00:00</td>\n",
       "      <td>547.44770</td>\n",
       "      <td>30.756876</td>\n",
       "      <td>922.46820</td>\n",
       "      <td>39.576168</td>\n",
       "      <td>66.319000</td>\n",
       "      <td>66.319000</td>\n",
       "      <td>64.327019</td>\n",
       "      <td>3.003636</td>\n",
       "    </tr>\n",
       "    <tr>\n",
       "      <th>129809</th>\n",
       "      <td>2020-12-31 21:30:00+00:00</td>\n",
       "      <td>463.78204</td>\n",
       "      <td>30.680513</td>\n",
       "      <td>886.92694</td>\n",
       "      <td>39.403336</td>\n",
       "      <td>65.438670</td>\n",
       "      <td>65.438670</td>\n",
       "      <td>63.483402</td>\n",
       "      <td>2.987939</td>\n",
       "    </tr>\n",
       "    <tr>\n",
       "      <th>129810</th>\n",
       "      <td>2020-12-31 21:40:00+00:00</td>\n",
       "      <td>472.37115</td>\n",
       "      <td>30.551275</td>\n",
       "      <td>884.98804</td>\n",
       "      <td>39.182835</td>\n",
       "      <td>64.908165</td>\n",
       "      <td>64.908165</td>\n",
       "      <td>63.365112</td>\n",
       "      <td>2.377286</td>\n",
       "    </tr>\n",
       "    <tr>\n",
       "      <th>129811</th>\n",
       "      <td>2020-12-31 21:50:00+00:00</td>\n",
       "      <td>579.70490</td>\n",
       "      <td>30.431310</td>\n",
       "      <td>939.09460</td>\n",
       "      <td>39.011333</td>\n",
       "      <td>64.766170</td>\n",
       "      <td>64.766170</td>\n",
       "      <td>64.550331</td>\n",
       "      <td>0.333259</td>\n",
       "    </tr>\n",
       "    <tr>\n",
       "      <th>129812</th>\n",
       "      <td>2020-12-31 22:00:00+00:00</td>\n",
       "      <td>554.78850</td>\n",
       "      <td>30.328987</td>\n",
       "      <td>927.96220</td>\n",
       "      <td>38.867000</td>\n",
       "      <td>64.691170</td>\n",
       "      <td>64.691170</td>\n",
       "      <td>64.280151</td>\n",
       "      <td>0.635355</td>\n",
       "    </tr>\n",
       "  </tbody>\n",
       "</table>\n",
       "<p>24646 rows × 9 columns</p>\n",
       "</div>"
      ],
      "text/plain": [
       "                     sample_time       power  outdoor_temp  generator_speed  \\\n",
       "105120 2020-06-13 12:20:00+00:00  1471.88950     21.637331       1242.50480   \n",
       "105121 2020-06-13 12:30:00+00:00  2269.15700     21.958326       1440.35140   \n",
       "105122 2020-06-13 12:40:00+00:00  1848.58220     22.357782       1336.69070   \n",
       "105123 2020-06-13 12:50:00+00:00  2222.08180     22.545212       1430.48700   \n",
       "105124 2020-06-13 13:00:00+00:00  2330.56880     22.536217       1452.36340   \n",
       "...                          ...         ...           ...              ...   \n",
       "129808 2020-12-31 21:20:00+00:00   547.44770     30.756876        922.46820   \n",
       "129809 2020-12-31 21:30:00+00:00   463.78204     30.680513        886.92694   \n",
       "129810 2020-12-31 21:40:00+00:00   472.37115     30.551275        884.98804   \n",
       "129811 2020-12-31 21:50:00+00:00   579.70490     30.431310        939.09460   \n",
       "129812 2020-12-31 22:00:00+00:00   554.78850     30.328987        927.96220   \n",
       "\n",
       "          nacelle  gearbox_bearing   original  predicted       APE  \n",
       "105120  29.280334        62.573334  62.573334  64.746567  3.473097  \n",
       "105121  31.264334        65.407670  65.407670  65.165146  0.370789  \n",
       "105122  29.424667        66.546330  66.546330  64.836876  2.568818  \n",
       "105123  28.319500        63.864666  63.864666  64.570671  1.105471  \n",
       "105124  28.371166        63.637500  63.637500  64.562874  1.454133  \n",
       "...           ...              ...        ...        ...       ...  \n",
       "129808  39.576168        66.319000  66.319000  64.327019  3.003636  \n",
       "129809  39.403336        65.438670  65.438670  63.483402  2.987939  \n",
       "129810  39.182835        64.908165  64.908165  63.365112  2.377286  \n",
       "129811  39.011333        64.766170  64.766170  64.550331  0.333259  \n",
       "129812  38.867000        64.691170  64.691170  64.280151  0.635355  \n",
       "\n",
       "[24646 rows x 9 columns]"
      ]
     },
     "execution_count": 21,
     "metadata": {},
     "output_type": "execute_result"
    }
   ],
   "source": [
    "df_new= df.merge(df_teste, how='left',on=['generator_speed','nacelle'])\n",
    "df_new= df_new.dropna()\n",
    "df_new"
   ]
  },
  {
   "cell_type": "code",
   "execution_count": 23,
   "metadata": {},
   "outputs": [
    {
     "name": "stdout",
     "output_type": "stream",
     "text": [
      "       generator_speed    nacelle   original  predicted       APE     error\n",
      "0           1242.50480  29.280334  62.573334  64.746567  3.473097  2.173233\n",
      "1           1440.35140  31.264334  65.407670  65.165146  0.370789 -0.242524\n",
      "2           1336.69070  29.424667  66.546330  64.836876  2.568818 -1.709454\n",
      "3           1430.48700  28.319500  63.864666  64.570671  1.105471  0.706005\n",
      "4           1452.36340  28.371166  63.637500  64.562874  1.454133  0.925374\n",
      "...                ...        ...        ...        ...       ...       ...\n",
      "24689        886.92694  39.403336  65.438670  63.483402  2.987939 -1.955268\n",
      "24690        884.98804  39.182835  64.908165  63.365112  2.377286 -1.543053\n",
      "24691        939.09460  39.011333  64.766170  64.550331  0.333259 -0.215839\n",
      "24692        927.96220  38.867000  64.691170  64.280151  0.635355 -0.411019\n",
      "24693        352.50555  40.111168  63.903500  58.761703  8.046189 -5.141797\n",
      "\n",
      "[24694 rows x 6 columns]\n"
     ]
    }
   ],
   "source": [
    "df_teste['error']=df_teste['predicted'] - df_teste['original']\n",
    "print(df_teste)"
   ]
  },
  {
   "cell_type": "code",
   "execution_count": 24,
   "metadata": {},
   "outputs": [
    {
     "name": "stdout",
     "output_type": "stream",
     "text": [
      "Mean Error: 0.28713752700412437\n",
      "MAE: 1.3620790546813057\n",
      "RMSE: 1.8201222834219202\n"
     ]
    },
    {
     "name": "stderr",
     "output_type": "stream",
     "text": [
      "/home/ingridsimoes/anaconda3/lib/python3.7/site-packages/seaborn/distributions.py:2619: FutureWarning: `distplot` is a deprecated function and will be removed in a future version. Please adapt your code to use either `displot` (a figure-level function with similar flexibility) or `histplot` (an axes-level function for histograms).\n",
      "  warnings.warn(msg, FutureWarning)\n",
      "/home/ingridsimoes/anaconda3/lib/python3.7/site-packages/matplotlib/cbook/__init__.py:1377: FutureWarning: Support for multi-dimensional indexing (e.g. `obj[:, None]`) is deprecated and will be removed in a future version.  Convert to a numpy array before indexing instead.\n",
      "  x[:, None]\n",
      "/home/ingridsimoes/anaconda3/lib/python3.7/site-packages/matplotlib/axes/_base.py:237: FutureWarning: Support for multi-dimensional indexing (e.g. `obj[:, None]`) is deprecated and will be removed in a future version.  Convert to a numpy array before indexing instead.\n",
      "  x = x[:, np.newaxis]\n",
      "/home/ingridsimoes/anaconda3/lib/python3.7/site-packages/matplotlib/axes/_base.py:239: FutureWarning: Support for multi-dimensional indexing (e.g. `obj[:, None]`) is deprecated and will be removed in a future version.  Convert to a numpy array before indexing instead.\n",
      "  y = y[:, np.newaxis]\n"
     ]
    },
    {
     "data": {
      "text/plain": [
       "<matplotlib.axes._subplots.AxesSubplot at 0x7fdf145da5f8>"
      ]
     },
     "execution_count": 24,
     "metadata": {},
     "output_type": "execute_result"
    },
    {
     "data": {
      "image/png": "[encoded data removed]",
      "text/plain": [
       "<Figure size 432x288 with 1 Axes>"
      ]
     },
     "metadata": {
      "needs_background": "light"
     },
     "output_type": "display_data"
    }
   ],
   "source": [
    "%matplotlib inline\n",
    "import seaborn as sns\n",
    "print('Mean Error:', np.mean(df_teste['error']))\n",
    "print('MAE:', np.mean(np.abs(df_teste['error'])))\n",
    "print('RMSE:', np.sqrt(np.mean(df_teste['error']**2)))\n",
    "\n",
    "sns.distplot(df_teste['error'])"
   ]
  },
  {
   "cell_type": "code",
   "execution_count": 25,
   "metadata": {},
   "outputs": [
    {
     "name": "stdout",
     "output_type": "stream",
     "text": [
      "1.1571112692871104\n",
      "3.3128451266090293\n",
      "0.41221902342138594\n"
     ]
    }
   ],
   "source": [
    "import numpy as np\n",
    "from sklearn.metrics import median_absolute_error, mean_squared_error\n",
    "from sklearn.metrics import r2_score\n",
    "\n",
    "print(median_absolute_error(df_teste['original'], df_teste['predicted']))\n",
    "print(mean_squared_error(df_teste['original'], df_teste['predicted']))\n",
    "print(r2_score(df_teste['original'], df_teste['predicted']))\n"
   ]
  },
  {
   "cell_type": "code",
   "execution_count": null,
   "metadata": {},
   "outputs": [],
   "source": [
    "import pandas as pd\n",
    "import matplotlib.pyplot as plt\n",
    "pd.DataFrame(history.history).plot(figsize=(30, 12))\n",
    "plt.grid(True)\n",
    "plt.gca "
   ]
  },
  {
   "cell_type": "code",
   "execution_count": null,
   "metadata": {},
   "outputs": [],
   "source": [
    "import matplotlib.pyplot as plt\n",
    "import numpy as np\n",
    "import scipy.stats as stats\n",
    "import math\n",
    "\n",
    "\n",
    "mean, dev = stats.norm.fit(df_teste['error'])\n",
    "\n",
    "df_teste['error_gaussiano']=stats.norm.pdf(df_teste['error'], mean, dev)\n",
    "print(df_teste)"
   ]
  },
  {
   "cell_type": "code",
   "execution_count": null,
   "metadata": {},
   "outputs": [],
   "source": [
    "mean, dev = stats.norm.fit(df_teste['error_gaussiano'])\n",
    "upper=stats.norm.ppf(0.9, loc=mean, scale=dev)\n",
    "lower =stats.norm.ppf(0.1, loc=mean, scale=dev)\n",
    "print(lower)\n",
    "print(upper)"
   ]
  },
  {
   "cell_type": "code",
   "execution_count": null,
   "metadata": {},
   "outputs": [],
   "source": [
    "error3= df_teste[df_teste['error']>=upper]\n",
    "error3"
   ]
  },
  {
   "cell_type": "code",
   "execution_count": null,
   "metadata": {},
   "outputs": [],
   "source": [
    "error2= df_teste[df_teste['error']<=lower]\n",
    "error2"
   ]
  },
  {
   "cell_type": "code",
   "execution_count": null,
   "metadata": {},
   "outputs": [],
   "source": [
    "error3= error3.reset_index(drop=True)\n",
    "error2 = error2.reset_index(drop=True)\n",
    "df_error= pd.concat([error3, error2], ignore_index=True)\n",
    "df_error"
   ]
  },
  {
   "cell_type": "code",
   "execution_count": null,
   "metadata": {},
   "outputs": [],
   "source": [
    "df_new= df_error.merge(df, how='left',on=['power','outdoor_temp','generator_speed','nacelle'])\n",
    "df_new= df_new.dropna()\n",
    "df_new"
   ]
  },
  {
   "cell_type": "code",
   "execution_count": null,
   "metadata": {},
   "outputs": [],
   "source": [
    "df_new['sample_time'] = pd.to_datetime(df_new['sample_time'])\n",
    "df_new['sample_time']= df_new.sample_time.dt.strftime(\"%Y-%m-%d\")\n",
    "df_new = df_new.groupby(['sample_time']).count()"
   ]
  },
  {
   "cell_type": "code",
   "execution_count": null,
   "metadata": {},
   "outputs": [],
   "source": [
    "df_new\n"
   ]
  },
  {
   "cell_type": "code",
   "execution_count": null,
   "metadata": {},
   "outputs": [],
   "source": [
    "df_alarm= df_new[df_new['error_gaussiano']>95]\n",
    "df_alarm.index.size\n",
    "df_alarm"
   ]
  }
 ],
 "metadata": {
  "kernelspec": {
   "display_name": "Python 3",
   "language": "python",
   "name": "python3"
  },
  "language_info": {
   "codemirror_mode": {
    "name": "ipython",
    "version": 3
   },
   "file_extension": ".py",
   "mimetype": "text/x-python",
   "name": "python",
   "nbconvert_exporter": "python",
   "pygments_lexer": "ipython3",
   "version": "3.7.3"
  }
 },
 "nbformat": 4,
 "nbformat_minor": 2
}
